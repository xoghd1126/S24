{
  "nbformat": 4,
  "nbformat_minor": 0,
  "metadata": {
    "colab": {
      "private_outputs": true,
      "provenance": [],
      "include_colab_link": true
    },
    "kernelspec": {
      "name": "python3",
      "display_name": "Python 3"
    },
    "language_info": {
      "name": "python"
    }
  },
  "cells": [
    {
      "cell_type": "markdown",
      "metadata": {
        "id": "view-in-github",
        "colab_type": "text"
      },
      "source": [
        "<a href=\"https://colab.research.google.com/github/xoghd1126/S24/blob/main/apps/AppSample01.ipynb\" target=\"_parent\"><img src=\"https://colab.research.google.com/assets/colab-badge.svg\" alt=\"Open In Colab\"/></a>"
      ]
    },
    {
      "cell_type": "markdown",
      "source": [
        "# 🌱 AppDemo #1\n",
        "\n",
        "## [1] Interactive story reading (text)\n",
        "## [2] Arrange parts to make a sentence\n",
        "+ Text only\n",
        "+ With sound"
      ],
      "metadata": {
        "id": "7KxTGplTf2ye"
      }
    },
    {
      "cell_type": "markdown",
      "source": [
        "# [1] Story dataframe for the app design"
      ],
      "metadata": {
        "id": "RdK1lqV2XN2t"
      }
    },
    {
      "cell_type": "code",
      "source": [
        "#@markdown 🌀 A. Sample story (data set)\n",
        "\n",
        "import pandas as pd\n",
        "\n",
        "# Sample DataFrame setup\n",
        "data = {\n",
        "    'Introduction': [\n",
        "        \"Once upon a time in a faraway land, there was a mysterious forest, home to an imposing castle at its edge, each shrouded in mystery and tales untold.\",\n",
        "        \"In a bustling city on the edge of the world, a hidden alley held secrets, including a curious bookstore and an ancient café.\",\n",
        "        \"Deep under the sea, a forgotten city lay, full of untold stories, among them a coral palace and sunken gardens.\"\n",
        "    ],\n",
        "    'Question': [\n",
        "        \"Do you want to explore the castle or the forest?\",\n",
        "        \"Do you investigate the curious bookstore or the ancient café?\",\n",
        "        \"Do you explore the coral palace or the sunken gardens?\"\n",
        "    ],\n",
        "    'Choice1': [\n",
        "        \"Explore the castle\",\n",
        "        \"Investigate the curious bookstore\",\n",
        "        \"Explore the coral palace\"\n",
        "    ],\n",
        "    'Choice2': [\n",
        "        \"Explore the forest\",\n",
        "        \"Investigate the ancient café\",\n",
        "        \"Explore the sunken gardens\"\n",
        "    ],\n",
        "    'Ending': [\n",
        "        \"You explored the castle and found a hidden treasure.\",\n",
        "        \"You discovered a secret world behind the bookstore.\",\n",
        "        \"You uncovered the mysteries of the ancient underwater city.\"\n",
        "    ]\n",
        "}\n",
        "\n",
        "\n",
        "df = pd.DataFrame(data)\n",
        "# df.index = ['Story1', 'Story2', 'Story3'] # row labels"
      ],
      "metadata": {
        "id": "dSXZktPCbea9",
        "cellView": "form"
      },
      "execution_count": null,
      "outputs": []
    },
    {
      "cell_type": "code",
      "source": [
        "#@markdown 🌀 B. Story making (sample)\n",
        "while True:\n",
        "    choice = input(\"Type 1, 2, 3 to choose a story, or 'q' to quit: \")\n",
        "\n",
        "    if choice.lower() == 'q':\n",
        "        print(\"Quitting the story game. Goodbye!\")\n",
        "        break\n",
        "\n",
        "    if choice in ['1', '2', '3']:\n",
        "        story_idx = int(choice) - 1  # Adjust for zero-based index\n",
        "        if story_idx < len(df):\n",
        "            print(\"\\nIntroduction:\")\n",
        "            print(df.loc[story_idx, 'Introduction'])\n",
        "\n",
        "            print(\"\\nQuestion:\")\n",
        "            print(df.loc[story_idx, 'Question'])\n",
        "            print(f\"1) {df.loc[story_idx, 'Choice1']}\")\n",
        "            print(f\"2) {df.loc[story_idx, 'Choice2']}\")\n",
        "\n",
        "            input(\"Choose an option (1 or 2): \")  # Placeholder for user choice\n",
        "\n",
        "            print(\"\\nEnding:\")\n",
        "            print(df.loc[story_idx, 'Ending'])\n",
        "            print(\"*\"*30)\n",
        "        else:\n",
        "            print(\"Invalid story choice. Please try again.\")\n",
        "    else:\n",
        "        print(\"Invalid input. Please type 1, 2, 3, or 'q' to choose a story or to quit.\")\n"
      ],
      "metadata": {
        "id": "SHxCf7a7bF1V",
        "cellView": "form"
      },
      "execution_count": null,
      "outputs": []
    },
    {
      "cell_type": "markdown",
      "source": [
        "# [2] Arrange phrases to make a sentence\n",
        "\n",
        "Here's the continuation and completion of the code"
      ],
      "metadata": {
        "id": "W66pwB9Lo9mK"
      }
    },
    {
      "cell_type": "markdown",
      "source": [
        "### Description:\n",
        "\n",
        "+ This Python code is part of an interactive language learning application designed to help learners practice sentence structure. It demonstrates how one can use Python and its libraries to create educational tools.\n",
        "\n",
        "Here's how the application works:\n",
        "\n",
        "1. Sentence Input: Learners begin by typing a complete sentence into a text box. This sentence is what they will work with in the exercise.\n",
        "\n",
        "2. Sentence Splitting: The application takes the input sentence and splits it into three parts. This is done programmatically by dividing the number of words roughly into thirds, ensuring that the sentence is broken down into sizable chunks for the learner to rearrange.\n",
        "\n",
        "3. Shuffling and Display: The three parts of the sentence are then shuffled and displayed in a randomized order. Each part is numbered so the learner can reference them when typing their answer.\n",
        "\n",
        "4. Interactive Response: The learner is prompted to type the correct order of the parts to reconstruct the original sentence. They input their answer in the form of a sequence of numbers (e.g., \"231\" to indicate that the second part comes first, followed by the third, then the first part).\n",
        "\n",
        "5. Verification and Feedback: After submitting their answer, the application checks if the sequence of numbers matches the correct order of the original sentence. If the learner's answer is correct, they receive a congratulatory message. If not, they are prompted to try again, with the parts displayed for another attempt.\n",
        "\n",
        "6. Repetition Until Success: This process repeats, with the parts being shuffled each time, until the learner inputs the correct order. There's no limit to the number of attempts, providing a stress-free learning environment where the learner can practice at their own pace.\n",
        "\n",
        "7. Applicability: Such an application can be expanded with features like hints, time limits, or a scoring system to gamify the learning experience. It's an example of how Python's interactive capabilities can be leveraged in educational technology to create engaging and effective learning tools.\n",
        "\n"
      ],
      "metadata": {
        "id": "y7LR2T7b7vDk"
      }
    },
    {
      "cell_type": "code",
      "source": [
        "#@markdown 🌀 A. Rearrange parts of a sentence (text only)\n",
        "\n",
        "import ipywidgets as widgets\n",
        "from IPython.display import display, clear_output\n",
        "import random\n",
        "\n",
        "# Options for sentences\n",
        "sentences = [\n",
        "    \"Despite the rain, we decided to go for a walk in the park, enjoying the fresh air and the sound of raindrops on the leaves.\",\n",
        "    \"The teacher, who has been teaching Spanish for over ten years, is known for her innovative teaching methods and dedication to her students' success.\",\n",
        "    \"After finishing his homework, John watched his favorite movie, which he had been looking forward to all week, with his family.\"\n",
        "]\n",
        "\n",
        "# Dropdown widget for sentence selection\n",
        "sentence_dropdown = widgets.Dropdown(\n",
        "    options=[(f\"Sentence {i+1}\", i) for i in range(len(sentences))],\n",
        "    value=0,\n",
        "    description='Sentence:',\n",
        ")\n",
        "\n",
        "# Function to split the sentence into three parts\n",
        "def split_sentence_into_three(sentence):\n",
        "    sentence = sentence.lower()[:-1]\n",
        "    words = sentence.split()\n",
        "    length = len(words)\n",
        "    part1_length = length // 3\n",
        "    part2_length = 2 * (length // 3)\n",
        "    part1 = ' '.join(words[:part1_length])\n",
        "    part2 = ' '.join(words[part1_length:part2_length])\n",
        "    part3 = ' '.join(words[part2_length:])\n",
        "\n",
        "    return [part1, part2, part3]\n",
        "\n",
        "# Global variables\n",
        "parts = []\n",
        "correct_order = \"\"\n",
        "\n",
        "# Function to display parts and ask for user input\n",
        "def display_parts_and_ask():\n",
        "    global parts, correct_order\n",
        "    sentence = sentences[sentence_dropdown.value]\n",
        "    parts = split_sentence_into_three(sentence)\n",
        "    randomized_parts = parts.copy()\n",
        "    random.shuffle(randomized_parts)\n",
        "    correct_order = ''.join(str(parts.index(part) + 1) for part in randomized_parts)\n",
        "\n",
        "    clear_output(wait=True)\n",
        "    display(sentence_dropdown)  # Ensure the dropdown is still visible after clearing output\n",
        "    print(\"Rearrange the parts of the sentence by typing the correct order (e.g., '231'):\\n\")\n",
        "    for i, part in enumerate(randomized_parts, start=1):\n",
        "        print(f\"{i}: {part}\")\n",
        "\n",
        "    # Create a text input widget for user response\n",
        "    order_input = widgets.Text(\n",
        "        value='',\n",
        "        placeholder='Type the order here',\n",
        "        description='Order:',\n",
        "        disabled=False\n",
        "    )\n",
        "\n",
        "    # Button to submit the answer\n",
        "    submit_button = widgets.Button(description=\"Submit\")\n",
        "\n",
        "    # Display the widgets\n",
        "    display(order_input)\n",
        "    display(submit_button)\n",
        "\n",
        "    # Function to check the order upon submission\n",
        "    def check_order(b):\n",
        "        user_order = order_input.value\n",
        "        if user_order == correct_order:\n",
        "            clear_output()\n",
        "            congratulatory_message = \"Congratulations! The correct sentence is:\\n\\n\" + sentences[sentence_dropdown.value]\n",
        "            print(congratulatory_message)\n",
        "            display(sentence_dropdown)  # Display dropdown for another try\n",
        "            display(start_button)  # Display start button for another try\n",
        "        else:\n",
        "            incorrect_message = f\"That's not correct. The correct order was {correct_order}. Try again.\"\n",
        "            print(incorrect_message)\n",
        "            display_parts_and_ask()  # Optionally, restart immediately\n",
        "\n",
        "    submit_button.on_click(check_order)\n",
        "\n",
        "# Button to start the game with the selected sentence\n",
        "start_button = widgets.Button(description=\"Start with selected sentence\")\n",
        "start_button.on_click(lambda b: display_parts_and_ask())\n",
        "\n",
        "display(sentence_dropdown)\n",
        "display(start_button)\n"
      ],
      "metadata": {
        "cellView": "form",
        "id": "uF-Wz_MTDbgJ"
      },
      "execution_count": null,
      "outputs": []
    },
    {
      "cell_type": "markdown",
      "source": [
        "## [B] With sound"
      ],
      "metadata": {
        "id": "6lsN3ZNtGqR7"
      }
    },
    {
      "cell_type": "markdown",
      "source": [
        "+ Install necessary modules"
      ],
      "metadata": {
        "id": "roii_04wMPpS"
      }
    },
    {
      "cell_type": "code",
      "source": [
        "# Install gTTS module\n",
        "\n",
        "%%capture\n",
        "!pip install gTTS\n",
        "from gtts import gTTS"
      ],
      "metadata": {
        "id": "bWzJsa4TEBQD"
      },
      "execution_count": null,
      "outputs": []
    },
    {
      "cell_type": "markdown",
      "source": [
        "+ Define function: tts()"
      ],
      "metadata": {
        "id": "abt8T5KgMTTA"
      }
    },
    {
      "cell_type": "code",
      "source": [
        "# Define tts()\n",
        "\n",
        "def tts(mytext):\n",
        "  tts = gTTS(text = mytext, lang = \"en\")\n",
        "  tts.save(\"E-Audio.mp3\")"
      ],
      "metadata": {
        "id": "wAKh085JEqsd"
      },
      "execution_count": null,
      "outputs": []
    },
    {
      "cell_type": "code",
      "source": [
        "#@markdown Play app (rearrange parts to make a sentence.)\n",
        "import ipywidgets as widgets\n",
        "from IPython.display import display, clear_output, Audio\n",
        "import random\n",
        "from gtts import gTTS\n",
        "\n",
        "def tts(mytext):\n",
        "  tts = gTTS(text=mytext, lang=\"en\")\n",
        "  tts.save(\"E-Audio.mp3\")\n",
        "  return display(Audio(\"E-Audio.mp3\", autoplay=True))\n",
        "\n",
        "# Options for sentences\n",
        "sentences = [\n",
        "    \"Despite the rain, we decided to go for a walk in the park, enjoying the fresh air and the sound of raindrops on the leaves.\",\n",
        "    \"The teacher, who has been teaching Spanish for over ten years, is known for her innovative teaching methods and dedication to her students' success.\",\n",
        "    \"After finishing his homework, John watched his favorite movie, which he had been looking forward to all week, with his family.\"\n",
        "]\n",
        "\n",
        "# Dropdown widget for sentence selection\n",
        "sentence_dropdown = widgets.Dropdown(\n",
        "    options=[(f\"Sentence {i+1}\", i) for i in range(len(sentences))],\n",
        "    value=0,\n",
        "    description='Sentence:',\n",
        ")\n",
        "\n",
        "# Function to display parts and ask for user input\n",
        "def display_parts_and_ask():\n",
        "    global parts, correct_order\n",
        "    sentence = sentences[sentence_dropdown.value]\n",
        "    parts = split_sentence_into_three(sentence)\n",
        "    randomized_parts = parts.copy()\n",
        "    random.shuffle(randomized_parts)\n",
        "    correct_order = ''.join(str(parts.index(part) + 1) for part in randomized_parts)\n",
        "\n",
        "    clear_output(wait=True)\n",
        "    display(sentence_dropdown)  # Ensure the dropdown is still visible after clearing output\n",
        "    print(\"Rearrange the parts of the sentence by typing the correct order (e.g., '231'):\\n\")\n",
        "    for i, part in enumerate(randomized_parts, start=1):\n",
        "        print(f\"{i}: {part}\")\n",
        "\n",
        "    # Create a text input widget for user response\n",
        "    order_input = widgets.Text(\n",
        "        value='',\n",
        "        placeholder='Type the order here',\n",
        "        description='Order:',\n",
        "        disabled=False\n",
        "    )\n",
        "\n",
        "    # Button to submit the answer\n",
        "    submit_button = widgets.Button(description=\"Submit\")\n",
        "\n",
        "    # Display the widgets\n",
        "    display(order_input)\n",
        "    display(submit_button)\n",
        "\n",
        "    # Function to check the order upon submission\n",
        "    def check_order(b):\n",
        "        user_order = order_input.value\n",
        "        if user_order == correct_order:\n",
        "            clear_output()\n",
        "            congratulatory_message = \"Congratulations! The correct sentence is:\\n\\n\" + sentence\n",
        "            print(congratulatory_message)\n",
        "            tts(congratulatory_message)\n",
        "            display(sentence_dropdown)  # Display dropdown for another try\n",
        "            display(start_button)  # Display start button for another try\n",
        "        else:\n",
        "            incorrect_message = f\"That's not correct. Try again.\"\n",
        "            print(incorrect_message)  # Keep the incorrect message displayed\n",
        "\n",
        "    submit_button.on_click(check_order)\n",
        "\n",
        "# Function to split the sentence into three parts\n",
        "def split_sentence_into_three(sentence):\n",
        "    sentence = sentence.lower().rstrip('.')\n",
        "    words = sentence.split()\n",
        "    length = len(words)\n",
        "    part1_length = length // 3\n",
        "    part2_length = 2 * (length // 3)\n",
        "    part1 = ' '.join(words[:part1_length])\n",
        "    part2 = ' '.join(words[part1_length:part2_length])\n",
        "    part3 = ' '.join(words[part2_length:])\n",
        "    return [part1, part2, part3]\n",
        "\n",
        "# Button to start the game with the selected sentence\n",
        "start_button = widgets.Button(description=\"Start with selected sentence\")\n",
        "start_button.on_click(lambda b: display_parts_and_ask())\n",
        "\n",
        "display(sentence_dropdown)\n",
        "display(start_button)\n"
      ],
      "metadata": {
        "cellView": "form",
        "id": "nKIA78bjLhNW"
      },
      "execution_count": null,
      "outputs": []
    },
    {
      "cell_type": "markdown",
      "source": [
        "---\n",
        "The End"
      ],
      "metadata": {
        "id": "5-UzTbbpLiU7"
      }
    }
  ]
}