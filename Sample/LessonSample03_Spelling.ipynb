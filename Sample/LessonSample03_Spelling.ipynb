{
  "nbformat": 4,
  "nbformat_minor": 0,
  "metadata": {
    "colab": {
      "private_outputs": true,
      "provenance": [],
      "include_colab_link": true
    },
    "kernelspec": {
      "name": "python3",
      "display_name": "Python 3"
    },
    "language_info": {
      "name": "python"
    }
  },
  "cells": [
    {
      "cell_type": "markdown",
      "metadata": {
        "id": "view-in-github",
        "colab_type": "text"
      },
      "source": [
        "<a href=\"https://colab.research.google.com/github/xoghd1126/S24/blob/main/Sample/LessonSample03_Spelling.ipynb\" target=\"_parent\"><img src=\"https://colab.research.google.com/assets/colab-badge.svg\" alt=\"Open In Colab\"/></a>"
      ]
    },
    {
      "cell_type": "markdown",
      "source": [
        "# 📙 **Lesson Sample 3:**\n",
        "\n",
        "+ Learning Outcomes:\n",
        "  + Enhancing Reading (Spelling) Proficiency Through Audio-Assisted Learning\n",
        "  + Students will listen to a target word and practice its spelling.\n",
        "  + Students will practice spelling a list of words, set by the teacher, using corresponding audio prompts.\n",
        "  + Automatic feedback (e.g., 'correct', 'incorrect') will be provided after each activity step.\n"
      ],
      "metadata": {
        "id": "2oFznVdKPuMx"
      }
    },
    {
      "cell_type": "markdown",
      "source": [
        "# 🔎**Part 0. Traditional approaches commonly used in learning spelling**"
      ],
      "metadata": {
        "id": "vFgOfmvIvowM"
      }
    },
    {
      "cell_type": "markdown",
      "source": [
        "## 1. Repetition and Memorization:\n",
        "The most traditional method is the repetitive writing of words. Students are typically given a list of words to memorize each week, which they write multiple times.\n",
        "\n",
        "## 2. Use of Flashcards:\n",
        "Flashcards are a staple in language learning, especially for vocabulary building and spelling.\n",
        "\n",
        "## 3.  Dictation:\n",
        "Teachers dictate words and sentences aloud, and students write them down as accurately as they can. This tests not only their listening skills but also their ability to connect sounds with letters and words.\n",
        "\n",
        "## 4. Spelling Tests:\n",
        "Regular spelling tests are a common feature in traditional classrooms. These might be straightforward tests where students write down words from memory, or they could be in the form of quizzes that include multiple-choice questions or cloze tests.\n",
        "\n",
        "## Note:\n",
        "In Korea, and many other Asian educational settings, there is a strong emphasis on test scores and academic performance, which often drives the reliance on memorization techniques. While effective for some students, these methods can be challenging for others who might benefit from more interactive or contextually rich learning experiences."
      ],
      "metadata": {
        "id": "fjerY5qswArK"
      }
    },
    {
      "cell_type": "markdown",
      "source": [
        "# 🔎 **Part 1. Sample: step by step processes**"
      ],
      "metadata": {
        "id": "InFmeUCYQT3I"
      }
    },
    {
      "cell_type": "markdown",
      "source": [
        "## Step 1 Install packages"
      ],
      "metadata": {
        "id": "wYjXRzjyo-iI"
      }
    },
    {
      "cell_type": "code",
      "source": [
        "%%capture\n",
        "!pip install gtts gradio"
      ],
      "metadata": {
        "id": "rrsoM4AFpa1Y"
      },
      "execution_count": null,
      "outputs": []
    },
    {
      "cell_type": "markdown",
      "source": [
        "## Step 2: Select a word randomly and generate an audio to play:\n",
        "We can use the gTTS (Google Text-to-Speech) library to generate audio for the randomly selected word."
      ],
      "metadata": {
        "id": "cmF61r8bpDj7"
      }
    },
    {
      "cell_type": "code",
      "source": [
        "import random\n",
        "\n",
        "# List of words for the test\n",
        "word_list = [\"apple\", \"banana\", \"cherry\", \"orange\", \"grape\"]\n",
        "\n",
        "# Shuffle the word list\n",
        "random.shuffle(word_list)\n"
      ],
      "metadata": {
        "id": "bk0vgoZRo_RH"
      },
      "execution_count": null,
      "outputs": []
    },
    {
      "cell_type": "code",
      "source": [
        "from gtts import gTTS\n",
        "import IPython.display as ipd\n",
        "\n",
        "# Select a word randomly from the list\n",
        "word = random.choice(word_list)\n",
        "\n",
        "# Generate audio for the selected word\n",
        "tts = gTTS(text=word, lang='en')\n",
        "tts.save(\"word.mp3\")\n",
        "\n",
        "# Play the audio\n",
        "ipd.Audio(\"word.mp3\", autoplay=True)\n"
      ],
      "metadata": {
        "id": "F1wcWqYwpE47"
      },
      "execution_count": null,
      "outputs": []
    },
    {
      "cell_type": "markdown",
      "source": [
        "## Step 3: User interaction:\n",
        "After playing the audio, we'll prompt the user to type the word they heard. We'll treat capitalization the same by converting both the user input and the word to lowercase."
      ],
      "metadata": {
        "id": "XCmdlmA1pMnU"
      }
    },
    {
      "cell_type": "code",
      "source": [
        "# Prompt user to type the word they heard\n",
        "user_input = input(\"Type the word you heard: \").lower()\n"
      ],
      "metadata": {
        "id": "8L-ZqM5jpOiw"
      },
      "execution_count": null,
      "outputs": []
    },
    {
      "cell_type": "markdown",
      "source": [
        "## Step 4: Check correctness and continue the process:\n",
        "We'll compare the user input with the selected word. If it's correct, we'll print a message and remove the word from the test list. If the user types a word incorrectly, we'll put it back in the list. So, the task ends when each user typed all the words in the given list correctly."
      ],
      "metadata": {
        "id": "6XshFQFtpSmL"
      }
    },
    {
      "cell_type": "markdown",
      "source": [
        "This code works."
      ],
      "metadata": {
        "id": "vRZ86thLrdeW"
      }
    },
    {
      "cell_type": "code",
      "execution_count": null,
      "metadata": {
        "id": "GNDgGX-yo2AX"
      },
      "outputs": [],
      "source": [
        "import random\n",
        "from gtts import gTTS\n",
        "import IPython.display as ipd\n",
        "\n",
        "# List of words for the test\n",
        "word_list = [\"apple\", \"banana\", \"cherry\", \"orange\", \"grape\"]\n",
        "random.shuffle(word_list)\n",
        "\n",
        "def play_audio(word):\n",
        "    tts = gTTS(text=word, lang='en')\n",
        "    tts.save(\"word.mp3\")\n",
        "    return ipd.Audio(\"word.mp3\", autoplay=True)\n",
        "\n",
        "# Main loop\n",
        "while word_list:\n",
        "    word = random.choice(word_list)  # Select a random word from the list\n",
        "    display(play_audio(word))        # Generate and play the audio for the selected word\n",
        "\n",
        "    user_input = input(\"Type the word you heard: \").strip().lower()  # Get user input\n",
        "\n",
        "    if user_input == word:\n",
        "        print(\"Correct!\")\n",
        "        word_list.remove(word)  # Remove the word from the list if correct\n",
        "        print(\"Remaining words:\", word_list)  # Optionally print remaining words for debugging\n",
        "    else:\n",
        "        print(\"Incorrect. Try again. The word was:\", word)\n",
        "\n",
        "# Congratulate the user when all words are done\n",
        "print(\"Congratulations! You completed the test.\")\n"
      ]
    },
    {
      "cell_type": "markdown",
      "source": [
        "## Step 5: (optional) Remove the audio display after completed so that only the target audio is displayed in the output."
      ],
      "metadata": {
        "id": "uNjv3IINOOJz"
      }
    },
    {
      "cell_type": "code",
      "source": [
        "import random\n",
        "import os\n",
        "from gtts import gTTS\n",
        "import IPython.display as ipd\n",
        "from IPython.display import display, clear_output\n",
        "\n",
        "# List of words for the test\n",
        "word_list = [\"apple\", \"banana\", \"cherry\", \"orange\", \"grape\"]\n",
        "random.shuffle(word_list)\n",
        "\n",
        "def play_audio(word):\n",
        "    tts = gTTS(text=word, lang='en')\n",
        "    tts.save(\"word.mp3\")\n",
        "    display(ipd.Audio(\"word.mp3\", autoplay=True))\n",
        "\n",
        "# Main loop\n",
        "while word_list:\n",
        "    clear_output(wait=True)  # Clear the previous outputs including audio\n",
        "    word = random.choice(word_list)  # Select a random word from the list\n",
        "    play_audio(word)  # Generate and play the audio for the selected word\n",
        "\n",
        "    user_input = input(\"Type the word you heard: \").strip().lower()  # Get user input\n",
        "\n",
        "    if user_input == word:\n",
        "        print(\"Correct!\")\n",
        "        word_list.remove(word)  # Remove the word from the list if correct\n",
        "        os.remove(\"word.mp3\")   # Delete the audio file after a correct guess\n",
        "    else:\n",
        "        print(\"Incorrect. Try again. The word was:\", word)\n",
        "\n",
        "# Congratulate the user when all words are done\n",
        "print(\"Congratulations! You completed the test.\")\n"
      ],
      "metadata": {
        "id": "t462gJhKrg2C"
      },
      "execution_count": null,
      "outputs": []
    },
    {
      "cell_type": "markdown",
      "source": [
        "# 🔎 **Part II. Audio feedback**"
      ],
      "metadata": {
        "id": "L3EyVs5hsS8Z"
      }
    },
    {
      "cell_type": "code",
      "source": [
        "#@markdown Audio feedback while practicing spelling:\n",
        "\n",
        "import random\n",
        "import os\n",
        "from gtts import gTTS\n",
        "import IPython.display as ipd\n",
        "from IPython.display import display, clear_output\n",
        "import time\n",
        "\n",
        "# List of words for the test\n",
        "original_word_list = [\"apple\", \"orange\", \"grape\"]  # Keep an unshuffled copy for later display\n",
        "random.shuffle(original_word_list)\n",
        "word_list = original_word_list.copy()  # Work with a shuffled copy\n",
        "\n",
        "def play_combined_audio(feedback, word=None):\n",
        "    # If there's a next word, combine feedback and next word into one audio\n",
        "    if word:\n",
        "        combined_text = f\"{feedback} ... Next word is: {word}.\"\n",
        "    else:\n",
        "        combined_text = feedback  # Just the feedback for the final word\n",
        "\n",
        "    tts = gTTS(text=combined_text, lang='en')\n",
        "    tts.save(\"combined.mp3\")\n",
        "    display(ipd.Audio(\"combined.mp3\", autoplay=True))\n",
        "    time.sleep(len(combined_text.split()) / 2.5)  # Approximate pause based on speech rate\n",
        "\n",
        "# Play the first word to start the test\n",
        "first_word = word_list.pop(0)\n",
        "play_combined_audio(\"In this exercise, you'll listen to a word and then type what you heard. Don't worry if you get the spelling wrong—the word will come up again later for another try. Let's get started\", first_word)\n",
        "current_word = first_word\n",
        "\n",
        "# Main loop\n",
        "while True:\n",
        "    clear_output(wait=True)  # Clear the previous outputs including audio\n",
        "    user_input = input(\"Type the word you heard: \").strip().lower()  # Get user input\n",
        "    print(\"=\"*50)\n",
        "\n",
        "    if user_input == current_word:\n",
        "        feedback = \"Good job!\"\n",
        "        if word_list:\n",
        "            next_word = random.choice(word_list)  # Get the next word randomly from the list\n",
        "            word_list.remove(next_word)  # Remove the next word from the list\n",
        "            play_combined_audio(feedback, next_word)\n",
        "            current_word = next_word  # Update the current word to the next\n",
        "        else:\n",
        "            # Final feedback when there are no more words left\n",
        "            play_combined_audio(feedback + \" ... Congratulations! You completed the test.\", None)\n",
        "            print(\"=\"*50)\n",
        "            print(\"Here is the original list of words you were tested on:\")\n",
        "            print(original_word_list)  # Display the original word list\n",
        "            break\n",
        "    else:\n",
        "        feedback = f\"Well, let's try {current_word} later again. \"\n",
        "        word_list.append(current_word)  # Reinsert the incorrectly guessed word back into the list\n",
        "        random.shuffle(word_list)  # Shuffle the list again\n",
        "        next_word = random.choice(word_list)  # Select a new word randomly\n",
        "        word_list.remove(next_word)  # Remove the new word from the list\n",
        "        play_combined_audio(feedback, next_word)\n",
        "        current_word = next_word  # Update the current word to the new choice\n"
      ],
      "metadata": {
        "cellView": "form",
        "id": "x1Vv6rQRx7pO"
      },
      "execution_count": null,
      "outputs": []
    },
    {
      "cell_type": "markdown",
      "source": [
        "# 🔎 **Part III. Gradio implementation**\n",
        "\n",
        "*Note: you need to replace the word list with yours."
      ],
      "metadata": {
        "id": "-l8IC245zhfO"
      }
    },
    {
      "cell_type": "code",
      "source": [
        "%%capture\n",
        "# !pip install gradio  # This is installed earlier."
      ],
      "metadata": {
        "id": "LVxJCRocz8re"
      },
      "execution_count": null,
      "outputs": []
    },
    {
      "cell_type": "code",
      "source": [
        "#@markdown Spelling exercise\n",
        "\n",
        "import random\n",
        "from gtts import gTTS\n",
        "import gradio as gr\n",
        "\n",
        "def initialize_word_list():\n",
        "    \"\"\"Initializes and returns a list of words to be used in the game.\"\"\"\n",
        "    return [\"apple\", \"banana\", \"table\", \"great\"]\n",
        "\n",
        "original_word_list = initialize_word_list()\n",
        "\n",
        "def play_audio(word):\n",
        "    \"\"\"Generates an audio file from a given word and saves it to be played.\"\"\"\n",
        "    tts = gTTS(text=word, lang='en')\n",
        "    audio_path = \"temp_audio.mp3\"\n",
        "    tts.save(audio_path)\n",
        "    return audio_path\n",
        "\n",
        "def setup_interface():\n",
        "    with gr.Blocks() as demo:\n",
        "        with gr.Row():\n",
        "            name_input = gr.Textbox(label=\"Enter your name\", placeholder=\"Type your name here...\")\n",
        "            start_button = gr.Button(\"Start\")\n",
        "        with gr.Row():\n",
        "            audio_player = gr.Audio(label=\"Listen to the word\", autoplay=False)\n",
        "            input_word = gr.Textbox(label=\"Type the word you heard\", placeholder=\"Start typing here...\")\n",
        "            feedback_text = gr.Label(label=\"Feedback\")\n",
        "\n",
        "        current_word = gr.State()\n",
        "        user_name = gr.State()\n",
        "        remaining_words = gr.State()\n",
        "\n",
        "        def start_game(name):\n",
        "            \"\"\"Starts or restarts the game by reloading the word list and playing the first word.\"\"\"\n",
        "            if name:\n",
        "                shuffled_words = random.sample(original_word_list, len(original_word_list))\n",
        "                first_word = shuffled_words.pop(0)\n",
        "                return play_audio(first_word), first_word, \"\", name, shuffled_words\n",
        "            return None, None, \"Please enter your name to start.\", None, []\n",
        "\n",
        "        start_button.click(\n",
        "            fn=start_game,\n",
        "            inputs=name_input,\n",
        "            outputs=[audio_player, current_word, feedback_text, user_name, remaining_words]\n",
        "        )\n",
        "\n",
        "        def handle_input(input_text, word_in_play, name, words_left):\n",
        "            \"\"\"Processes the user input and checks against the current word.\"\"\"\n",
        "            if not word_in_play:\n",
        "                return \"Please press start to play the game.\", None, word_in_play, name, words_left\n",
        "\n",
        "            correct = input_text.lower() == word_in_play.lower()\n",
        "            feedback = \"Correct!\" if correct else f\"Incorrect. The word was: {word_in_play}.\"\n",
        "\n",
        "            if correct:\n",
        "                if words_left:\n",
        "                    next_word = words_left.pop(0)\n",
        "                    return feedback, play_audio(next_word), next_word, name, words_left\n",
        "                feedback += f\" Congratulations, {name}! You've completed this exercise. If you want to try again, click Start.\"\n",
        "                return feedback, None, None, name, []\n",
        "            return feedback, play_audio(word_in_play), word_in_play, name, words_left\n",
        "\n",
        "        input_word.change(\n",
        "            fn=handle_input,\n",
        "            inputs=[input_word, current_word, user_name, remaining_words],\n",
        "            outputs=[feedback_text, audio_player, current_word, user_name, remaining_words]\n",
        "        )\n",
        "\n",
        "    demo.launch()\n",
        "\n",
        "setup_interface()\n"
      ],
      "metadata": {
        "id": "I0bBChKyEdqh",
        "cellView": "form"
      },
      "execution_count": null,
      "outputs": []
    },
    {
      "cell_type": "markdown",
      "source": [
        "---\n",
        "# The END"
      ],
      "metadata": {
        "id": "MlXaWekKRGwi"
      }
    }
  ]
}