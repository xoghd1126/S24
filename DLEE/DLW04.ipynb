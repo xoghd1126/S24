{
  "nbformat": 4,
  "nbformat_minor": 0,
  "metadata": {
    "colab": {
      "private_outputs": true,
      "provenance": [],
      "include_colab_link": true
    },
    "kernelspec": {
      "name": "python3",
      "display_name": "Python 3"
    },
    "language_info": {
      "name": "python"
    }
  },
  "cells": [
    {
      "cell_type": "markdown",
      "metadata": {
        "id": "view-in-github",
        "colab_type": "text"
      },
      "source": [
        "<a href=\"https://colab.research.google.com/github/xoghd1126/S24/blob/main/DLEE/DLW04.ipynb\" target=\"_parent\"><img src=\"https://colab.research.google.com/assets/colab-badge.svg\" alt=\"Open In Colab\"/></a>"
      ]
    },
    {
      "cell_type": "markdown",
      "source": [
        "# (Continued)\n",
        "# 3.5 Data types:\n",
        "\n",
        "* **Number:** integers, floating numbers\n",
        "* **String:** character strings\n",
        "* **List:** multiple elements\n",
        "* **Dictionary:** paired values (e.g., {'book': 'noun'}\n",
        "* **Tuple:** paired values not modifiable (e.g., months = (\"January\",\"February\",...))\n"
      ],
      "metadata": {
        "id": "p5S4pHtw2HI6"
      }
    },
    {
      "cell_type": "markdown",
      "source": [
        "# 💦 Application: Current time in a city (preview)"
      ],
      "metadata": {
        "id": "3ADaJZQJ5MuH"
      }
    },
    {
      "cell_type": "markdown",
      "source": [
        "## Lesson objectives:\n",
        "\n",
        "1. Students will be able to understand and use vocabulary related to time (e.g. hour, minute, second, a.m./p.m., morning, afternoon, etc.).\n",
        "2. Students will be able to ask and answer questions about the time using basic time expressions (e.g. \"What time is it?\", \"It's [time] in [location]\")."
      ],
      "metadata": {
        "id": "uPeYJVZQ59Cv"
      }
    },
    {
      "cell_type": "markdown",
      "source": [
        "Let's watch a short video!"
      ],
      "metadata": {
        "id": "VT8NHJZM-TjO"
      }
    },
    {
      "cell_type": "code",
      "source": [
        "#@markdown **Title: Why do we have different time zone?** Video (1m 19s)\n",
        "from IPython.display import YouTubeVideo, display\n",
        "video = YouTubeVideo(\"AgINA9_IFiI\", width=600)\n",
        "display(video)"
      ],
      "metadata": {
        "cellView": "form",
        "id": "r4bGc9Zc-Suu"
      },
      "execution_count": null,
      "outputs": []
    },
    {
      "cell_type": "code",
      "source": [
        "#@markdown 💠 Map of the world time zone (#1~2)\n",
        "#@markdown Introduction Slides\n",
        "from IPython.display import display\n",
        "import ipywidgets as widgets\n",
        "import requests\n",
        "\n",
        "def on_button_click(button):\n",
        "    sn = int(button.description) - 1\n",
        "    image.value = requests.get(urls[sn]).content\n",
        "\n",
        "urls = ['https://github.com/MK316/Spring2023/raw/main/DL/data/worldmappng.png',\n",
        "        'https://github.com/MK316/Spring2023/raw/main/DL/data/worldtimezone.png']\n",
        "\n",
        "button_layout = widgets.Layout(width='50px', height='30px')\n",
        "\n",
        "buttons = [widgets.Button(description=str(i), layout=button_layout) for i in range(1, 3)]\n",
        "for button in buttons:\n",
        "    button.on_click(on_button_click)\n",
        "\n",
        "image = widgets.Image(value=requests.get(urls[0]).content, width=\"800\", height=\"600\")\n",
        "\n",
        "display(widgets.HBox([image, widgets.VBox(buttons)]))\n"
      ],
      "metadata": {
        "cellView": "form",
        "id": "NbPqRcZ_5O9H"
      },
      "execution_count": null,
      "outputs": []
    },
    {
      "cell_type": "markdown",
      "source": [
        "## Q: Current time in Seoul is 5 pm. What time is it in London now?\n",
        "\n",
        "Note: [pytz timezone list](https://gist.github.com/heyalexej/8bf688fd67d7199be4a1682b3eec7568), [gTTS language options](https://gtts.readthedocs.io/en/latest/module.html)"
      ],
      "metadata": {
        "id": "m4CykqtlCm2E"
      }
    },
    {
      "cell_type": "code",
      "source": [
        "#@markdown 📌 Install packages\n",
        "%%capture\n",
        "!pip install gtts\n",
        "from gtts import gTTS"
      ],
      "metadata": {
        "id": "XzrqYy4DEgxO"
      },
      "execution_count": null,
      "outputs": []
    },
    {
      "cell_type": "markdown",
      "source": [
        "### Instruction:\n",
        "+ Run the first code and copy the text obtained from it.\n",
        "+ Then run the second code.\n",
        "+ The second code reads it out in English and asks for the time in a different city."
      ],
      "metadata": {
        "id": "HibYyjsS1sAw"
      }
    },
    {
      "cell_type": "code",
      "source": [
        "from datetime import datetime\n",
        "import pytz\n",
        "\n",
        "#@markdown **🌲 Step [1] Location to choose:**\n",
        "# Get the timezone object for New York\n",
        "\n",
        "location = 'Europe/London' #@param = ['Asia/Seoul','Asia/Shanghai','Asia/Dubai','Australia/Sydney','America/New_York', 'Canada/Montreal','Europe/London', 'Europe/Barcelona','Africa/Cairo']\n",
        "loc = location.split(\"/\")\n",
        "locq = loc[1]\n",
        "\n",
        "tz_loc = pytz.timezone(location)\n",
        "datetime = datetime.now(tz_loc)\n",
        "current_time1 = datetime.strftime(\"%H:%M\")\n",
        "current_time2 = datetime.strftime(\"%I:%M %p\")\n",
        "\n",
        "# Get the current time in New York\n",
        "print(\"Current Time in %s is\"%locq, current_time2)"
      ],
      "metadata": {
        "cellView": "form",
        "id": "N5rVEfZAP9k7"
      },
      "execution_count": null,
      "outputs": []
    },
    {
      "cell_type": "code",
      "source": [
        "#@markdown **🌲 Step [2] Language to choose:**\n",
        "# language and dialect selection\n",
        "language_select = \"en/us/English(US)\" #@param = [\"en/us/English(US)\",\"en/co.uk/English(UK)\",\"en/com.au/English(Australia)\",\"en/ca/English(Canada)\",\"en/co.in/English(India)\",\"en/ie/English(Ireland)\",\"fr/fr/French\",\"es/es/Spanish(Spain)/\",\"ko/ko/Korean\",\"zh-CN/any/Chinese(Main Land)\"]\n",
        "langsel = language_select.split(\"/\")\n",
        "lg = langsel[0]\n",
        "dialect = langsel[1]\n",
        "\n",
        "# # text input\n",
        "txt = input(\"Type texts to say: \")\n",
        "\n",
        "import random\n",
        "citylist = [\"London\",\"Paris\",\"New York\",\"Dubai\",\"Jinju\",\"Barcelona\",\"Shanghai\",\"Montreal\",\"Sydney\"]\n",
        "city = random.choice(citylist)\n",
        "txtnew = txt.replace(\"_\",\" \")\n",
        "mytext = txtnew + \"...\" + \"What time is it in %s now?\"%city\n",
        "# function\n",
        "if lg == \"ko\":\n",
        "  tts = gTTS(mytext, lang = lg, slow = False)\n",
        "elif lg == \"zh-CN\":\n",
        "  tts = gTTS(mytext, lang = lg, slow = False)\n",
        "else:\n",
        "  tts = gTTS(mytext, lang = lg, tld = dialect, slow = False)\n",
        "\n",
        "tts.save('myaudio.mp3')\n",
        "\n",
        "# Save as a file for reading\n",
        "\n",
        "# Play audio\n",
        "from IPython.display import Audio, display\n",
        "Audio('myaudio.mp3', autoplay=True)"
      ],
      "metadata": {
        "cellView": "form",
        "id": "aq7aCYfgHAnc"
      },
      "execution_count": null,
      "outputs": []
    },
    {
      "cell_type": "markdown",
      "source": [
        "# 3.5 Data types:\n",
        "\n",
        "* **Number:** integers, floating numbers\n",
        "* **String:** character strings\n",
        "* **List:** multiple elements\n",
        "* **Dictionary:** paired values (e.g., {'book': 'noun'}\n",
        "* **Tuple:** paired values not modifiable (e.g., months = (\"January\",\"February\",...))\n"
      ],
      "metadata": {
        "id": "3eSrUoglRh6-"
      }
    },
    {
      "cell_type": "markdown",
      "source": [
        "\n",
        "|Data type|Format|Example|\n",
        "|:--:|:--:|:--:|\n",
        "|number|int, float|2, 2.0|\n",
        "|string|character|'my way', '2'|\n",
        "|list|[element1, element2, ...]|[1,2,4], ['Mary','Tom','Jane'|\n",
        "|dictionary|{key: value}|{'English': 80, 'Korean':90}|\n",
        "|tuple|(element1, element2, ...)|('zero', 0), (\"Mon\",\"Tue\",\"Wed\",...)\n"
      ],
      "metadata": {
        "id": "ZVFb5JmJrPXu"
      }
    },
    {
      "cell_type": "markdown",
      "source": [
        "## [1] Numbers"
      ],
      "metadata": {
        "id": "6ssqRcktm8qP"
      }
    },
    {
      "cell_type": "code",
      "source": [
        "a1 = 3        #integer\n",
        "a2 = 3.0      #float\n",
        "a3 = \"3\"      #string\n",
        "\n",
        "print(type(a1))# type(variable)\n",
        "print(type(a2))\n",
        "print(type(a3))"
      ],
      "metadata": {
        "id": "g-kvldqENA1e"
      },
      "execution_count": null,
      "outputs": []
    },
    {
      "cell_type": "code",
      "source": [
        "# An example of an integer\n",
        "age = 25\n",
        "print(\"Age:\", age)"
      ],
      "metadata": {
        "id": "hXLBRArPnSa6"
      },
      "execution_count": null,
      "outputs": []
    },
    {
      "cell_type": "code",
      "source": [
        "# An example of a float\n",
        "average_score = 82.5\n",
        "print(\"Average Score:\", average_score)"
      ],
      "metadata": {
        "id": "rhPeAbpEnWDd"
      },
      "execution_count": null,
      "outputs": []
    },
    {
      "cell_type": "code",
      "source": [
        "age = input(\"How old are you?\")\n",
        "response = \"Oh, you're + \"17\" + age + \"!\" + \"I'm 17\"\"\n",
        "print(response)"
      ],
      "metadata": {
        "id": "bbW0w_Mthwd0"
      },
      "execution_count": null,
      "outputs": []
    },
    {
      "cell_type": "markdown",
      "source": [
        "## [2] String"
      ],
      "metadata": {
        "id": "_gzEHbvloSqS"
      }
    },
    {
      "cell_type": "code",
      "source": [
        "# An example of a string\n",
        "name = input()  # A pop-up box will appear and wait for your input. Type a name.\n",
        "print(\"Hello, %s!\"%name) #print(f\"Hello, (name)\")"
      ],
      "metadata": {
        "id": "xMi4lfEXnYk8"
      },
      "execution_count": null,
      "outputs": []
    },
    {
      "cell_type": "code",
      "source": [
        "# Text\n",
        "mytext = \"\"\"\n",
        "An API, or Application Programming Interface, is a set of rules, protocols, \\\n",
        "and tools for building software and applications. \\\n",
        "It specifies how different software components should interact and communicate with each other. \\\n",
        "Essentially, an API is a way for different software applications to talk to one another.\n",
        "\"\"\"\n",
        "words = mytext.split()\n",
        "print(\"Number of words: \",len(words))\n",
        "print(\"My text: \", mytext)"
      ],
      "metadata": {
        "id": "51HrTLk_nfKz"
      },
      "execution_count": null,
      "outputs": []
    },
    {
      "cell_type": "markdown",
      "source": [
        "## [3] List\n",
        "\n",
        "+ An ordered, mutable (changeable) collection of items. Lists are defined with square brackets, e.g., [1, 2, 3] or ['apple', 'banana', 'cherry']."
      ],
      "metadata": {
        "id": "_9Bsz0yVoN4J"
      }
    },
    {
      "cell_type": "code",
      "source": [
        "# An example of a list\n",
        "favorite_books = [\"To Kill a Mockingbird\", \"1984\", \"The Great Gatsby\"]\n",
        "print(\"Favorite Books:\", favorite_books)"
      ],
      "metadata": {
        "id": "GqOU53NUn72-"
      },
      "execution_count": null,
      "outputs": []
    },
    {
      "cell_type": "code",
      "source": [
        "# Accessing a list\n",
        "print(\"First book: \", favorite_books[0])"
      ],
      "metadata": {
        "id": "jHeZkpFZojK5"
      },
      "execution_count": null,
      "outputs": []
    },
    {
      "cell_type": "markdown",
      "source": [
        "+ Creating a list"
      ],
      "metadata": {
        "id": "Mj02RjCjpEyQ"
      }
    },
    {
      "cell_type": "code",
      "source": [
        "# Creating an empty list\n",
        "empty_list = []\n",
        "\n",
        "# Creating a list with some elements\n",
        "fruits = [\"apple\", \"banana\", \"cherry\"]\n"
      ],
      "metadata": {
        "id": "lsimZTSWo3GO"
      },
      "execution_count": null,
      "outputs": []
    },
    {
      "cell_type": "markdown",
      "source": [
        "+ Accessing list elements"
      ],
      "metadata": {
        "id": "aXv4Urj_pGoL"
      }
    },
    {
      "cell_type": "code",
      "source": [
        "# Accessing the first element\n",
        "first_fruit = fruits[0]  # 'apple'\n",
        "print(first_fruit)\n",
        "\n",
        "# Accessing the last element\n",
        "last_fruit = fruits[-1]  # 'cherry'\n",
        "print(last_fruit)\n",
        "print(fruits)"
      ],
      "metadata": {
        "id": "wnGA0faUpDVx"
      },
      "execution_count": null,
      "outputs": []
    },
    {
      "cell_type": "markdown",
      "source": [
        "+ Adding elements to a list"
      ],
      "metadata": {
        "id": "lKGQyz_VpI1P"
      }
    },
    {
      "cell_type": "code",
      "source": [
        "# Adding an element to the end of the list\n",
        "print(fruits)\n",
        "fruits.append(\"orange\")\n",
        "print(fruits)\n",
        "\n",
        "# Adding an element at a specific position\n",
        "fruits.insert(1, \"mango\")  # Inserts 'mango' at position 1 (this is the second position in the list)\n",
        "print(fruits)"
      ],
      "metadata": {
        "id": "kIwNKHbNpKrK"
      },
      "execution_count": null,
      "outputs": []
    },
    {
      "cell_type": "markdown",
      "source": [
        "+ Removing elements from a list"
      ],
      "metadata": {
        "id": "Nou9hOEhpN0E"
      }
    },
    {
      "cell_type": "code",
      "source": [
        "# Removing an element by value\n",
        "# Creating a list with some elements\n",
        "fruits = [\"apple\", \"banana\", \"cherry\"]\n",
        "\n",
        "fruits.remove(\"banana\")\n",
        "print(fruits)\n",
        "# Removing an element by index\n",
        "del fruits[0]  # Removes the first element\n",
        "\n",
        "print(fruits)"
      ],
      "metadata": {
        "id": "eM3pZoo3pR_O"
      },
      "execution_count": null,
      "outputs": []
    },
    {
      "cell_type": "markdown",
      "source": [
        "+ Slicing a list"
      ],
      "metadata": {
        "id": "dm_adoOJpT2n"
      }
    },
    {
      "cell_type": "code",
      "source": [
        "# Creating a list with some elements\n",
        "# index starts with 0 in Python. THus, \"banana\" is the second element and its index is \"1\", not \"2\"\n",
        "fruits = [\"apple\", \"banana\", \"cherry\", \"mango\", \"orange\"]\n",
        "\n",
        "# Slicing elements from 2nd to 4th position\n",
        "a1 = fruits[1:4]; print(\"a1: \", a1)\n",
        "\n",
        "# Slicing from the start to the 3rd position\n",
        "a2 = fruits[:3]; print(\"a2: \", a2)\n",
        "\n",
        "# Slicing from 3rd position to the end\n",
        "a3 = fruits[2:]; print(\"a3: \", a3)\n"
      ],
      "metadata": {
        "id": "qC78AfFZpVaU"
      },
      "execution_count": null,
      "outputs": []
    },
    {
      "cell_type": "markdown",
      "source": [
        "+ Iterating over a list"
      ],
      "metadata": {
        "id": "bmxwcux1pW9V"
      }
    },
    {
      "cell_type": "code",
      "source": [
        "# Iterating through a list\n",
        "for fruit in fruits:\n",
        "    print(fruit)"
      ],
      "metadata": {
        "id": "4uYP2uzTpZJY"
      },
      "execution_count": null,
      "outputs": []
    },
    {
      "cell_type": "code",
      "source": [
        "for i in range(0,10):\n",
        "  print(i)"
      ],
      "metadata": {
        "id": "j0ShX5WFrKQD"
      },
      "execution_count": null,
      "outputs": []
    },
    {
      "cell_type": "markdown",
      "source": [
        "+ Sorting a list"
      ],
      "metadata": {
        "id": "eAF_rYZ1pehF"
      }
    },
    {
      "cell_type": "code",
      "source": [
        "# Sorting a list without modifying the original list\n",
        "fruits = [\"cherry\", \"mango\", \"orange\",\"apple\", \"banana\"]\n",
        "print(\"Original: \", fruits)\n",
        "sorted_fruits = sorted(fruits)\n",
        "print(\"Sorted: \", sorted_fruits)"
      ],
      "metadata": {
        "id": "Ac35l6m2reSs"
      },
      "execution_count": null,
      "outputs": []
    },
    {
      "cell_type": "markdown",
      "source": [
        "+ Checking if an item is in a list"
      ],
      "metadata": {
        "id": "mvu7z-Xrph8X"
      }
    },
    {
      "cell_type": "code",
      "source": [
        "# Check if an item is in a list\n",
        "if \"apple\" in fruits:\n",
        "    print(\"Apple is in the list\")"
      ],
      "metadata": {
        "id": "L4EKFvD1pkfp"
      },
      "execution_count": null,
      "outputs": []
    },
    {
      "cell_type": "code",
      "source": [
        "request = input(\"Which one do you want to check? \")\n",
        "\n",
        "if request in fruits:\n",
        "  print(f\"The word '{request}' is in the list.\")\n",
        "else:\n",
        "  print(f\"The word '{request}' is not in the list\")"
      ],
      "metadata": {
        "id": "jnSBw49hsS9Q"
      },
      "execution_count": null,
      "outputs": []
    },
    {
      "cell_type": "markdown",
      "source": [
        "list and index (0, 1, 2,...)"
      ],
      "metadata": {
        "id": "HC_wMsPnNbzs"
      }
    },
    {
      "cell_type": "code",
      "source": [
        "a = [1, \"Mary\", 4, \"John\"]\n",
        "\n",
        "a1 = a[0] + a[2]\n",
        "a3 = a[1] + a[3]\n",
        "print(a1, a3)"
      ],
      "metadata": {
        "id": "LyTw7phONZHE"
      },
      "execution_count": null,
      "outputs": []
    },
    {
      "cell_type": "code",
      "source": [
        "# This will reture TypeError\n",
        "a2 = a[0] + a[1]"
      ],
      "metadata": {
        "id": "RdatCKNctUSM"
      },
      "execution_count": null,
      "outputs": []
    },
    {
      "cell_type": "markdown",
      "source": [
        "## [4] Dictionary\n",
        "\n",
        "+ A dictionary in Python is a collection of key-value pairs where each key is unique and associated with a value. Dictionaries are mutable, meaning you can change, add, or remove items after the dictionary has been created. Here are some examples to explain the dictionary data type:"
      ],
      "metadata": {
        "id": "eipUvDN6tdOG"
      }
    },
    {
      "cell_type": "markdown",
      "source": [
        "+ 1. Creating a Dictionary"
      ],
      "metadata": {
        "id": "pu_qMveivLUo"
      }
    },
    {
      "cell_type": "code",
      "source": [
        "# Empty dictionary\n",
        "empty_dict = {}\n",
        "\n",
        "# Dictionary with some data\n",
        "person = {\"name\": \"John\", \"age\": 30, \"city\": \"New York\"}"
      ],
      "metadata": {
        "id": "Y_X66Ee0vOBE"
      },
      "execution_count": null,
      "outputs": []
    },
    {
      "cell_type": "markdown",
      "source": [
        "+ 2. Accessing Dictionary Values"
      ],
      "metadata": {
        "id": "SRUT3SpHvRbM"
      }
    },
    {
      "cell_type": "code",
      "source": [
        "# Accessing value by key\n",
        "name = person[\"name\"]  # \"John\"\n",
        "print(name)\n",
        "\n",
        "# Using get() method which returns None if key not found\n",
        "occupation = person.get(\"occupation\")  # None\n",
        "print(occupation)"
      ],
      "metadata": {
        "id": "YSf9yZ1WvXWD"
      },
      "execution_count": null,
      "outputs": []
    },
    {
      "cell_type": "markdown",
      "source": [
        "+ 3. Adding or Modifying Elements"
      ],
      "metadata": {
        "id": "0Ds8CkZgvaGD"
      }
    },
    {
      "cell_type": "code",
      "source": [
        "# Adding a new key-value pair\n",
        "person[\"occupation\"] = \"Engineer\"\n",
        "\n",
        "# Modifying an existing key-value pair\n",
        "person[\"age\"] = 31\n",
        "\n",
        "person"
      ],
      "metadata": {
        "id": "KjABbgbKvadu"
      },
      "execution_count": null,
      "outputs": []
    },
    {
      "cell_type": "markdown",
      "source": [
        "+ 4. Removing Elements"
      ],
      "metadata": {
        "id": "-G6G1maWvvDi"
      }
    },
    {
      "cell_type": "code",
      "source": [
        "# Removing a key-value pair\n",
        "person = {\"name\": \"John\", \"age\": 30, \"city\": \"New York\"}\n",
        "\n",
        "del person[\"city\"]\n",
        "\n",
        "# Removing a key-value pair using pop()\n",
        "age = person.pop(\"age\")  # 31\n",
        "\n",
        "print(person)\n",
        "print(age)"
      ],
      "metadata": {
        "id": "mY_pGz9PvxfI"
      },
      "execution_count": null,
      "outputs": []
    },
    {
      "cell_type": "markdown",
      "source": [
        "+ Iterating over a dictionary"
      ],
      "metadata": {
        "id": "V-ui-3bqwK5m"
      }
    },
    {
      "cell_type": "code",
      "source": [
        "# Iterating over keys\n",
        "for key in person:\n",
        "    print(key)\n",
        "\n",
        "# Iterating over values\n",
        "for value in person.values():\n",
        "    print(value)\n",
        "\n",
        "# Iterating over key-value pairs\n",
        "for key, value in person.items():\n",
        "    print(key, value)\n"
      ],
      "metadata": {
        "id": "5cvlOQS6wNz3"
      },
      "execution_count": null,
      "outputs": []
    },
    {
      "cell_type": "markdown",
      "source": [
        "+ Sample application: phonebook"
      ],
      "metadata": {
        "id": "w2B1klW2wTV2"
      }
    },
    {
      "cell_type": "code",
      "source": [
        "# Simple Phonebook Application\n",
        "\n",
        "phonebook = {\n",
        "    \"John Doe\": \"555-555-5555\",\n",
        "    \"Jane Smith\": \"555-123-4567\",\n",
        "    \"Bob Stone\": \"555-987-6543\"\n",
        "}\n",
        "\n",
        "def add_contact(name, number):\n",
        "    phonebook[name] = number\n",
        "\n",
        "# def remove_contact(name):\n",
        "#     phonebook.pop(name, None)\n",
        "\n",
        "# def get_contact(name):\n",
        "#     return phonebook.get(name, \"Not found\")\n",
        "\n",
        "# def display_contacts():\n",
        "#     for name, number in phonebook.items():\n",
        "#         print(f\"{name}: {number}\")\n",
        "\n",
        "# Testing the phonebook application\n",
        "add_contact(\"Alice Johnson\", \"555-456-7890\")\n",
        "print(\"Contact added. Current phonebook:\")\n",
        "print(\"Current phonebook: \", phonebook)\n"
      ],
      "metadata": {
        "id": "xpoMVv-mwWf5"
      },
      "execution_count": null,
      "outputs": []
    },
    {
      "cell_type": "markdown",
      "source": [
        "## [5] Tuple\n",
        "\n",
        "+ Tuples in Python are similar to lists, but they are **immutable**, meaning that once a tuple is created, its elements cannot be changed, added, or removed. Tuples are often used for **data that should not change throughout the execution of a program**. They can store any type of data and can be nested, just like lists."
      ],
      "metadata": {
        "id": "2KUdLfwbtfGt"
      }
    },
    {
      "cell_type": "markdown",
      "source": [
        "+ Creating a tuple"
      ],
      "metadata": {
        "id": "uKqfTaImxHzf"
      }
    },
    {
      "cell_type": "code",
      "source": [
        "# Empty tuple\n",
        "empty_tuple = ()\n",
        "\n",
        "# Tuple with one element (singleton)\n",
        "mytuple = (\"Mon\",\"Tue\",\"Wed\",\"Thur\",\"Fri\",\"Sat\",\"Sun\")\n",
        "\n",
        "mytuple[0]"
      ],
      "metadata": {
        "id": "wryhHduGxJHC"
      },
      "execution_count": null,
      "outputs": []
    },
    {
      "cell_type": "markdown",
      "source": [
        "## Other data types\n",
        "\n",
        "+ Boolean: Represents truth values. The two boolean values are True and False.\n",
        "+ Set: An unordered collection of unique items.\n",
        "+ NoneType: A special type representing the absence of a value or a null value."
      ],
      "metadata": {
        "id": "ptMxAJmOxrTU"
      }
    },
    {
      "cell_type": "code",
      "source": [
        "# Variable representing whether it's nighttime\n",
        "is_night = input(\"Is it night now? Answer True or False\")\n",
        "\n",
        "# Check if it's night\n",
        "if is_night:\n",
        "    print(\"It's night. Turning on the light.\")\n",
        "else:\n",
        "    print(\"It's not night. Keeping the light off.\")\n",
        "\n"
      ],
      "metadata": {
        "id": "a-kGq6JMx8n9"
      },
      "execution_count": null,
      "outputs": []
    }
  ]
}